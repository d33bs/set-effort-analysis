{
 "cells": [
  {
   "cell_type": "markdown",
   "id": "66efaf66-6e56-4bdc-8610-ca6a360cad58",
   "metadata": {
    "tags": []
   },
   "source": [
    "# DBMI SET Effort Analysis - Data Exploration - Monday.com"
   ]
  },
  {
   "cell_type": "code",
   "execution_count": null,
   "id": "9cdd1b0b-e37f-4c10-a2e1-77b96cd424c4",
   "metadata": {
    "tags": []
   },
   "outputs": [],
   "source": [
    "import pathlib\n",
    "import zipfile\n",
    "\n",
    "import duckdb\n",
    "import pandas as pd"
   ]
  },
  {
   "cell_type": "code",
   "execution_count": null,
   "id": "ed7fcc40-4824-4fb8-8de5-be63f89ebbc3",
   "metadata": {
    "tags": []
   },
   "outputs": [],
   "source": [
    "# pull data from dvc remote\n",
    "!dvc pull"
   ]
  },
  {
   "cell_type": "code",
   "execution_count": null,
   "id": "d04d1a04-dada-4457-9743-3e5c7d5ada04",
   "metadata": {
    "tags": []
   },
   "outputs": [],
   "source": [
    "# setting some paths for later reference\n",
    "monday_data_dir = \"../data/monday.com/\"\n",
    "monday_zip_path = pathlib.Path(\n",
    "    f\"{monday_data_dir}/account_10368903_data_1661961547.zip\"\n",
    ")\n",
    "monday_dir_path = pathlib.Path(f\"{monday_data_dir}{monday_zip_path.stem}\")\n",
    "monday_dir_path"
   ]
  },
  {
   "cell_type": "code",
   "execution_count": null,
   "id": "e7ec999c-a313-4754-835f-e66d4313755a",
   "metadata": {
    "tags": []
   },
   "outputs": [],
   "source": [
    "# unzip the file if we haven't already\n",
    "if not monday_dir_path.is_dir():\n",
    "    with zipfile.ZipFile(monday_zip_path, \"r\") as zip_ref:\n",
    "        zip_ref.extractall(monday_dir_path)"
   ]
  },
  {
   "cell_type": "code",
   "execution_count": null,
   "id": "3b1dc6f5-a93c-4f4d-bd4e-2d5c9b268b0c",
   "metadata": {
    "tags": []
   },
   "outputs": [],
   "source": [
    "for path in pathlib.Path(\"../data/monday.com\").glob(\"**/*.xlsx\"):\n",
    "    print(path, pd.read_excel(path).info(), end=\"\\n\\n\")"
   ]
  },
  {
   "cell_type": "code",
   "execution_count": null,
   "id": "2814f0d8-c4bc-4675-b6a8-cf1d4e03db74",
   "metadata": {
    "tags": []
   },
   "outputs": [],
   "source": [
    "df_tasks = pd.read_excel(\n",
    "    \"../data/monday.com/account_10368903_data_1661961547/boards/1883170887_Project Tasks.xlsx\",\n",
    "    skiprows=4,\n",
    ")\n",
    "df_tasks = df_tasks.add_prefix(\"Task_\")\n",
    "df_tasks.head()"
   ]
  },
  {
   "cell_type": "code",
   "execution_count": null,
   "id": "0f5a43bf-85fc-4572-a355-21ee9c59893c",
   "metadata": {
    "tags": []
   },
   "outputs": [],
   "source": [
    "df_projects = pd.read_excel(\n",
    "    \"../data/monday.com/account_10368903_data_1661961547/boards/1882404316_Customer Projects.xlsx\",\n",
    "    skiprows=4,\n",
    ")\n",
    "df_projects = (\n",
    "    df_projects[[\"Name\", \"Account\", \"Project Contacts\"]].add_prefix(\"Project_\").dropna()\n",
    ")\n",
    "df_projects"
   ]
  },
  {
   "cell_type": "code",
   "execution_count": null,
   "id": "bf39c0d3-ce1d-4232-ab6a-3ff41d57e73f",
   "metadata": {
    "tags": []
   },
   "outputs": [],
   "source": [
    "df_accts = pd.read_excel(\n",
    "    \"../data/monday.com/account_10368903_data_1661961547/boards/1882424009_Accounts.xlsx\",\n",
    "    skiprows=4,\n",
    ")\n",
    "df_accts = df_accts[[\"Name\", \"Type\", \"Contacts\", \"Notes\"]].add_prefix(\"Acct_\")\n",
    "df_accts"
   ]
  },
  {
   "cell_type": "code",
   "execution_count": null,
   "id": "e96ad4f7-f92e-46e1-bd55-c2096e10cb18",
   "metadata": {
    "tags": []
   },
   "outputs": [],
   "source": [
    "# join account, project, and task details\n",
    "sql_stmt = \"\"\"\n",
    "SELECT * FROM df_accts\n",
    "JOIN df_projects on\n",
    "    df_projects.Project_Account = df_accts.Acct_Name\n",
    "JOIN df_tasks on\n",
    "    df_tasks.\"Task_Customer Project\" = df_projects.Project_Name\n",
    "\"\"\"\n",
    "acct_project_tasks = duckdb.sql(sql_stmt).df()\n",
    "print(acct_project_tasks.info())\n",
    "acct_project_tasks.head()"
   ]
  },
  {
   "cell_type": "code",
   "execution_count": null,
   "id": "ea1d5dc2-489a-4e94-9365-c590eeaedadf",
   "metadata": {
    "tags": []
   },
   "outputs": [],
   "source": [
    "acct_project_tasks[\"Task_Date Added\"].max()"
   ]
  },
  {
   "cell_type": "code",
   "execution_count": null,
   "id": "f1225663-db30-4988-b2ff-711580442adf",
   "metadata": {
    "tags": []
   },
   "outputs": [],
   "source": [
    "# export for potential later use\n",
    "acct_project_tasks.to_parquet(\n",
    "    \"../data/monday.com/dbmi-set-monday-acct-project-tasks.parquet\"\n",
    ")"
   ]
  },
  {
   "cell_type": "code",
   "execution_count": null,
   "id": "1a3adb8c-8257-4abd-a39d-7f0765080770",
   "metadata": {},
   "outputs": [],
   "source": [
    "!dvc add ../data/monday.com/dbmi-set-monday-acct-project-tasks.parquet\n",
    "!git add ../data/monday.com/dbmi-set-monday-acct-project-tasks.parquet.dvc\n",
    "!dvc push"
   ]
  },
  {
   "cell_type": "code",
   "execution_count": null,
   "id": "b4ec9889-7ea2-4da3-9080-0072f76476b4",
   "metadata": {},
   "outputs": [],
   "source": []
  }
 ],
 "metadata": {
  "kernelspec": {
   "display_name": "Python 3 (ipykernel)",
   "language": "python",
   "name": "python3"
  },
  "language_info": {
   "codemirror_mode": {
    "name": "ipython",
    "version": 3
   },
   "file_extension": ".py",
   "mimetype": "text/x-python",
   "name": "python",
   "nbconvert_exporter": "python",
   "pygments_lexer": "ipython3",
   "version": "3.9.12"
  }
 },
 "nbformat": 4,
 "nbformat_minor": 5
}
