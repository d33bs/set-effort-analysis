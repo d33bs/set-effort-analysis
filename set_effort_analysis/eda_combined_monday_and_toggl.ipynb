{
 "cells": [
  {
   "cell_type": "markdown",
   "id": "66efaf66-6e56-4bdc-8610-ca6a360cad58",
   "metadata": {
    "tags": []
   },
   "source": [
    "# DBMI SET Effort Analysis - Data Exploration - Combined Monday.com and Toggl.com Data"
   ]
  },
  {
   "cell_type": "code",
   "execution_count": null,
   "id": "9cdd1b0b-e37f-4c10-a2e1-77b96cd424c4",
   "metadata": {
    "tags": []
   },
   "outputs": [],
   "source": [
    "import pathlib\n",
    "import zipfile\n",
    "\n",
    "import duckdb\n",
    "import pandas as pd"
   ]
  },
  {
   "cell_type": "code",
   "execution_count": null,
   "id": "ed7fcc40-4824-4fb8-8de5-be63f89ebbc3",
   "metadata": {
    "tags": []
   },
   "outputs": [],
   "source": [
    "# pull data from dvc remote\n",
    "!dvc pull"
   ]
  },
  {
   "cell_type": "code",
   "execution_count": null,
   "id": "d04d1a04-dada-4457-9743-3e5c7d5ada04",
   "metadata": {
    "tags": []
   },
   "outputs": [],
   "source": [
    "# setting some paths for later reference\n",
    "monday_data = \"../data/monday.com/dbmi-set-monday-acct-project-tasks.parquet\"\n",
    "toggl_data = list(\n",
    "    pathlib.Path(\"../data/toggl.com/\").glob(\"DB-Toggl_Track_summary_report_*.csv\")\n",
    ")"
   ]
  },
  {
   "cell_type": "code",
   "execution_count": null,
   "id": "8492ca01-cae4-4a79-bf09-9130bd3ea5f2",
   "metadata": {
    "tags": []
   },
   "outputs": [],
   "source": [
    "# read monday data into df\n",
    "df_monday = pd.read_parquet(monday_data)\n",
    "print(df_monday.info())\n",
    "df_monday.head()"
   ]
  },
  {
   "cell_type": "code",
   "execution_count": null,
   "id": "daa18c3b-3a7f-41aa-8ef0-eefcace9dc06",
   "metadata": {
    "tags": []
   },
   "outputs": [],
   "source": [
    "df_monday[\"Acct_Name\"].unique()"
   ]
  },
  {
   "cell_type": "code",
   "execution_count": null,
   "id": "29a87bf7-24f4-49db-a408-8c3c755bd506",
   "metadata": {
    "tags": []
   },
   "outputs": [],
   "source": [
    "# read toggl data into df\n",
    "df_toggl = pd.concat([pd.read_csv(filepath) for filepath in toggl_data])\n",
    "print(df_toggl.info())\n",
    "df_toggl.head()"
   ]
  },
  {
   "cell_type": "code",
   "execution_count": null,
   "id": "3c7bd94e-4927-4002-9cc0-a01566417f12",
   "metadata": {
    "tags": []
   },
   "outputs": [],
   "source": [
    "df_toggl[\"Client\"].unique()"
   ]
  },
  {
   "cell_type": "code",
   "execution_count": null,
   "id": "6cffd9df-d593-47b3-bbd3-4730580ee520",
   "metadata": {
    "tags": []
   },
   "outputs": [],
   "source": [
    "# rename columns for join clarity\n",
    "df_monday = df_monday.rename(\n",
    "    columns={\"Acct_Name\": \"Client\", \"Task_Actual Time\": \"Duration\"}\n",
    ")\n",
    "df_toggl = df_toggl.rename(columns={\"Description\": \"Task_Name\"})"
   ]
  },
  {
   "cell_type": "code",
   "execution_count": null,
   "id": "6dbcda23-8758-469d-a4b3-0d7c3d4c495e",
   "metadata": {
    "tags": []
   },
   "outputs": [],
   "source": [
    "# relabel clients from monday for dataset clarity\n",
    "df_monday[\"Client\"] = (\n",
    "    df_monday[\"Client\"]\n",
    "    .str.replace(\"HealthAI: Way Lab\", \"Way Lab\")\n",
    "    .replace(\"HealthAI: Admin & Operations\", \"DBMI Administration\")\n",
    ")"
   ]
  },
  {
   "cell_type": "code",
   "execution_count": null,
   "id": "93ddd30e-4128-44b0-bcfd-f43b51a43175",
   "metadata": {
    "tags": []
   },
   "outputs": [],
   "source": [
    "column_subset = [\"Client\", \"Task_Name\", \"Duration\"]\n",
    "df_combined = pd.concat([df_monday[column_subset], df_toggl[column_subset]]).dropna()\n",
    "df_combined.head()"
   ]
  },
  {
   "cell_type": "code",
   "execution_count": null,
   "id": "dc1b5600-75dd-4d9f-8c73-fb5f27043b5e",
   "metadata": {
    "tags": []
   },
   "outputs": [],
   "source": [
    "# cast duration as a datetime and as separate minutes column\n",
    "df_combined[\"Duration\"] = pd.to_timedelta(df_combined[\"Duration\"], errors=\"ignore\")\n",
    "df_combined[\"Duration_Minutes\"] = (\n",
    "    df_combined[\"Duration\"].dt.total_seconds().div(60).astype(int)\n",
    ")"
   ]
  },
  {
   "cell_type": "code",
   "execution_count": null,
   "id": "1ffd0aa1-159c-4b16-b55e-3df34807b23b",
   "metadata": {
    "tags": []
   },
   "outputs": [],
   "source": [
    "df_combined.groupby(\"Client\")[\"Duration_Minutes\"].sum().sort_values().plot(kind=\"barh\")"
   ]
  },
  {
   "cell_type": "code",
   "execution_count": null,
   "id": "f1225663-db30-4988-b2ff-711580442adf",
   "metadata": {
    "tags": []
   },
   "outputs": [],
   "source": [
    "# export for potential later use\n",
    "df_combined.to_parquet(\"../data/analysis/monday_and_toggl_task_analysis.parquet\")"
   ]
  },
  {
   "cell_type": "code",
   "execution_count": null,
   "id": "1a3adb8c-8257-4abd-a39d-7f0765080770",
   "metadata": {},
   "outputs": [],
   "source": [
    "!dvc add ../data/analysis/monday_and_toggl_task_analysis.parquet\n",
    "!git add ../data/analysis/monday_and_toggl_task_analysis.parquet.dvc\n",
    "!dvc push"
   ]
  },
  {
   "cell_type": "code",
   "execution_count": null,
   "id": "498c810c-941a-4a44-b4fa-a1e50a7b53cc",
   "metadata": {
    "tags": []
   },
   "outputs": [],
   "source": [
    "sql_stmt = \"\"\"\n",
    "SELECT * FROM df_combined\n",
    "WHERE df_combined.Client = 'Way Lab' AND\n",
    "    (\n",
    "        df_combined.Task_Name ILIKE ('%PR%Review%')\n",
    "        OR df_combined.Task_Name ILIKE ('%Review%PR%')\n",
    "        OR df_combined.Task_Name ILIKE ('%PR''s%')\n",
    "    )\n",
    "\n",
    "\"\"\"\n",
    "result = duckdb.sql(sql_stmt).df()\n",
    "result.info()\n",
    "result[\"Duration_Minutes\"].sum() / 60"
   ]
  },
  {
   "cell_type": "code",
   "execution_count": null,
   "id": "37cd8459-fcf7-4a9f-9556-c70887f177c2",
   "metadata": {},
   "outputs": [],
   "source": [
    "sql_stmt = \"\"\"\n",
    "SELECT * FROM df_combined\n",
    "WHERE df_combined.Client = 'Way Lab' AND\n",
    "    (\n",
    "        df_combined.Task_Name ILIKE ('%PR%Review%')\n",
    "        OR df_combined.Task_Name ILIKE ('%Review%PR%')\n",
    "        OR df_combined.Task_Name ILIKE ('%PR''s%')\n",
    "    )\n",
    "\"\"\"\n",
    "result = duckdb.sql(sql_stmt).df()\n",
    "result.info()\n",
    "result[\"Duration_Minutes\"].sum() / 60"
   ]
  },
  {
   "cell_type": "code",
   "execution_count": null,
   "id": "82167925-4429-4d9c-b381-1eec48fff862",
   "metadata": {
    "tags": []
   },
   "outputs": [],
   "source": [
    "sql_stmt = \"\"\"\n",
    "SELECT * FROM df_combined\n",
    "WHERE df_combined.Client = 'Way Lab' AND\n",
    "    (\n",
    "        df_combined.Task_Name ILIKE ('%pycytominer-transform%')\n",
    "        OR df_combined.Task_Name ILIKE ('%cytotable%')\n",
    "\n",
    "    )\n",
    "\"\"\"\n",
    "result = duckdb.sql(sql_stmt).df()\n",
    "result.info()\n",
    "result\n",
    "result[\"Duration_Minutes\"].sum() / 60"
   ]
  },
  {
   "cell_type": "code",
   "execution_count": null,
   "id": "63d47e1f-f714-48bc-a21b-7ec397e1f3c5",
   "metadata": {
    "tags": []
   },
   "outputs": [],
   "source": [
    "sql_stmt = \"\"\"\n",
    "SELECT * FROM df_combined\n",
    "WHERE df_combined.Client = 'Way Lab' AND\n",
    "    (\n",
    "        df_combined.Task_Name ILIKE ('%pycytominer%')\n",
    "        and not df_combined.Task_Name ILIKE ('%pycytominer-transform%')\n",
    "        and not df_combined.Task_Name ILIKE ('%pycytominer-performance%')\n",
    "        and not df_combined.Task_Name ILIKE ('%cytotable%')\n",
    "\n",
    "    )\n",
    "\"\"\"\n",
    "result = duckdb.sql(sql_stmt).df()\n",
    "result.info()\n",
    "result\n",
    "result[\"Duration_Minutes\"].sum() / 60"
   ]
  },
  {
   "cell_type": "code",
   "execution_count": null,
   "id": "49904bbe-567d-44ed-88a0-8d49f8f3d839",
   "metadata": {
    "tags": []
   },
   "outputs": [],
   "source": [
    "sql_stmt = \"\"\"\n",
    "SELECT * FROM df_combined\n",
    "WHERE df_combined.Client = 'DBMI Administration' AND\n",
    "    (\n",
    "        df_combined.Task_Name ILIKE ('%totw%')\n",
    "        or df_combined.Task_Name ILIKE ('%blog%')\n",
    "        \n",
    "\n",
    "    ) AND NOT df_combined.Task_Name ILIKE ('%bssw%')\n",
    "\"\"\"\n",
    "result = duckdb.sql(sql_stmt).df()\n",
    "result.info()\n",
    "result\n",
    "result[\"Duration_Minutes\"].sum() / 60"
   ]
  },
  {
   "cell_type": "code",
   "execution_count": null,
   "id": "fab81606-3a22-4584-a22b-8b21b7d448f2",
   "metadata": {
    "tags": []
   },
   "outputs": [],
   "source": [
    "sql_stmt = \"\"\"\n",
    "SELECT * FROM df_combined\n",
    "WHERE df_combined.Client in ('DBMI Administration', 'Way Lab')\n",
    "    AND\n",
    "    (\n",
    "        (df_combined.Task_Name ILIKE ('%bssw%')\n",
    "        and df_combined.Task_Name ILIKE ('%blog%'))\n",
    "        OR\n",
    "        (df_combined.Task_Name ILIKE ('%bssw%abstract%'))\n",
    "    )\n",
    "\"\"\"\n",
    "result = duckdb.sql(sql_stmt).df()\n",
    "result.info()\n",
    "result\n",
    "result[\"Duration_Minutes\"].sum() / 60"
   ]
  },
  {
   "cell_type": "code",
   "execution_count": null,
   "id": "68140daa-2fc7-4fbc-8d82-1813c2b6a08e",
   "metadata": {
    "tags": []
   },
   "outputs": [],
   "source": [
    "sql_stmt = \"\"\"\n",
    "SELECT * FROM df_combined\n",
    "WHERE df_combined.Client in ('DBMI Administration', 'Way Lab')\n",
    "    AND\n",
    "    (\n",
    "        df_combined.Task_Name ILIKE ('%sqlite-clean%')\n",
    "        OR df_combined.Task_Name ILIKE ('%sqlite%clean%')\n",
    "        OR df_combined.Task_Name ILIKE ('%pycytominer%performance%')\n",
    "    )\n",
    "\"\"\"\n",
    "result = duckdb.sql(sql_stmt).df()\n",
    "result.info()\n",
    "# result\n",
    "result[\"Duration_Minutes\"].sum() / 60"
   ]
  },
  {
   "cell_type": "code",
   "execution_count": null,
   "id": "90ade9eb-0944-444d-8dfd-78fc3869721a",
   "metadata": {
    "tags": []
   },
   "outputs": [],
   "source": [
    "sql_stmt = \"\"\"\n",
    "SELECT * FROM df_combined\n",
    "WHERE df_combined.Client in ('DBMI Administration', 'Way Lab')\n",
    "    AND\n",
    "    (\n",
    "        df_combined.Task_Name ILIKE ('%bssw%application%')\n",
    "        OR df_combined.Task_Name ILIKE ('%bssw%grant%')\n",
    "    )\n",
    "\"\"\"\n",
    "result = duckdb.sql(sql_stmt).df()\n",
    "result.info()\n",
    "result\n",
    "result[\"Duration_Minutes\"].sum() / 60"
   ]
  },
  {
   "cell_type": "code",
   "execution_count": null,
   "id": "67c59cd4-a320-4e22-8728-8042777e559a",
   "metadata": {
    "tags": []
   },
   "outputs": [],
   "source": [
    "sql_stmt = \"\"\"\n",
    "SELECT * FROM df_combined\n",
    "WHERE df_combined.Client in ('DBMI Administration', 'Way Lab')\n",
    "    AND\n",
    "    (\n",
    "        df_combined.Task_Name ILIKE ('%scipy%')\n",
    "        OR df_combined.Task_Name ILIKE ('%data grammar%')\n",
    "        OR df_combined.Task_Name ILIKE ('%Conference topic submission%')\n",
    "    )\n",
    "\"\"\"\n",
    "result = duckdb.sql(sql_stmt).df()\n",
    "result.info()\n",
    "result\n",
    "result[\"Duration_Minutes\"].sum() / 60"
   ]
  },
  {
   "cell_type": "code",
   "execution_count": null,
   "id": "3aa0d7c7-a49b-4d19-8880-e78d50d24133",
   "metadata": {
    "tags": []
   },
   "outputs": [],
   "source": [
    "sql_stmt = \"\"\"\n",
    "SELECT * FROM df_combined\n",
    "WHERE df_combined.Client in ('DBMI Administration')\n",
    "    AND\n",
    "    (\n",
    "        df_combined.Task_Name ILIKE ('%ospo%')\n",
    "        or df_combined.Task_Name ILIKE ('%sloan%')\n",
    "        or df_combined.Task_Name ILIKE ('%ossr%')\n",
    "\n",
    "    )\n",
    "\"\"\"\n",
    "result = duckdb.sql(sql_stmt).df()\n",
    "result.info()\n",
    "result\n",
    "result[\"Duration_Minutes\"].sum() / 60"
   ]
  },
  {
   "cell_type": "code",
   "execution_count": null,
   "id": "f9e87163-bbe4-448c-bf02-509b5e1cfa46",
   "metadata": {
    "tags": []
   },
   "outputs": [],
   "source": [
    "sql_stmt = \"\"\"\n",
    "SELECT * FROM df_combined\n",
    "WHERE df_combined.Client in ('DBMI Administration')\n",
    "    AND\n",
    "    (\n",
    "        df_combined.Task_Name ILIKE ('%effort%')\n",
    "        OR df_combined.Task_Name ILIKE ('%toggl%')\n",
    "\n",
    "    )\n",
    "\"\"\"\n",
    "result = duckdb.sql(sql_stmt).df()\n",
    "result.info()\n",
    "result\n",
    "result[\"Duration_Minutes\"].sum() / 60"
   ]
  },
  {
   "cell_type": "code",
   "execution_count": null,
   "id": "5bcb3b31-548b-40e8-8de7-f4640f13c5fc",
   "metadata": {
    "tags": []
   },
   "outputs": [],
   "source": [
    "sql_stmt = \"\"\"\n",
    "SELECT * FROM df_combined\n",
    "WHERE df_combined.Client in ('Way Lab')\n",
    "    AND\n",
    "    (\n",
    "        df_combined.Task_Name ILIKE ('%assay%')\n",
    "        OR df_combined.Task_Name ILIKE ('%bucket%')\n",
    "\n",
    "    )\n",
    "\"\"\"\n",
    "result = duckdb.sql(sql_stmt).df()\n",
    "result.info()\n",
    "result\n",
    "result[\"Duration_Minutes\"].sum() / 60"
   ]
  },
  {
   "cell_type": "code",
   "execution_count": null,
   "id": "c0ea1150-c84d-4fef-9f1d-4096e7b3ed43",
   "metadata": {
    "tags": []
   },
   "outputs": [],
   "source": [
    "sql_stmt = \"\"\"\n",
    "SELECT * FROM df_combined\n",
    "WHERE df_combined.Client in ('DBMI Administration')\n",
    "    AND\n",
    "    (\n",
    "        df_combined.Task_Name ILIKE ('%cloud%storage%')\n",
    "        OR df_combined.Task_Name ILIKE ('%bucket%')\n",
    "        OR df_combined.Task_Name ILIKE ('%google%')\n",
    "\n",
    "    )\n",
    "\"\"\"\n",
    "result = duckdb.sql(sql_stmt).df()\n",
    "result.info()\n",
    "result\n",
    "# result[\"Duration_Minutes\"].sum() / 60"
   ]
  },
  {
   "cell_type": "code",
   "execution_count": null,
   "id": "d4c77950-86a0-497a-ab09-9871b0f37b88",
   "metadata": {},
   "outputs": [],
   "source": [
    "sql_stmt = \"\"\"\n",
    "SELECT * FROM df_combined\n",
    "WHERE df_combined.Client in ('DBMI Administration')\n",
    "    AND\n",
    "    (\n",
    "        df_combined.Task_Name ILIKE ('%cloud%storage%')\n",
    "    )\n",
    "\"\"\"\n",
    "result = duckdb.sql(sql_stmt).df()\n",
    "result.info()\n",
    "result\n",
    "result[\"Duration_Minutes\"].sum() / 60"
   ]
  },
  {
   "cell_type": "code",
   "execution_count": null,
   "id": "48b17f2d-f0e2-459a-ad7b-da9a8d22af3a",
   "metadata": {
    "tags": []
   },
   "outputs": [],
   "source": [
    "sql_stmt = \"\"\"\n",
    "SELECT * FROM df_combined\n",
    "WHERE df_combined.Client in ('Way Lab')\n",
    "AND ( \n",
    "        df_combined.Task_Name ILIKE ('%hiring%')\n",
    "        OR df_combined.Task_Name ILIKE ('%pra%')\n",
    "        OR df_combined.Task_Name ILIKE ('%interview%')\n",
    "    )\n",
    "\"\"\"\n",
    "result = duckdb.sql(sql_stmt).df()\n",
    "result.info()\n",
    "result[\"Task_Name\"].tolist()\n",
    "result[\"Duration_Minutes\"].sum() / 60"
   ]
  }
 ],
 "metadata": {
  "kernelspec": {
   "display_name": "Python 3 (ipykernel)",
   "language": "python",
   "name": "python3"
  },
  "language_info": {
   "codemirror_mode": {
    "name": "ipython",
    "version": 3
   },
   "file_extension": ".py",
   "mimetype": "text/x-python",
   "name": "python",
   "nbconvert_exporter": "python",
   "pygments_lexer": "ipython3",
   "version": "3.9.12"
  }
 },
 "nbformat": 4,
 "nbformat_minor": 5
}
